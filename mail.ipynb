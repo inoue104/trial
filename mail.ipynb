{
 "cells": [
  {
   "cell_type": "code",
   "execution_count": null,
   "metadata": {},
   "outputs": [],
   "source": [
    "!pip install pandas"
   ]
  },
  {
   "cell_type": "code",
   "execution_count": 1,
   "metadata": {},
   "outputs": [
    {
     "name": "stderr",
     "output_type": "stream",
     "text": [
      "/home/ninoue/trial/venv/lib/python3.10/site-packages/langchain_core/_api/deprecation.py:189: LangChainDeprecationWarning: The class `ChatOpenAI` was deprecated in LangChain 0.1.0 and will be removed in 0.2.0. Use langchain_openai.ChatOpenAI instead.\n",
      "  warn_deprecated(\n"
     ]
    }
   ],
   "source": [
    "from dotenv import load_dotenv\n",
    "load_dotenv()\n",
    "\n",
    "from langchain_community.chat_models import ChatOpenAI\n",
    "llm = ChatOpenAI()\n"
   ]
  },
  {
   "cell_type": "code",
   "execution_count": 2,
   "metadata": {},
   "outputs": [],
   "source": [
    "from langchain import hub\n",
    "from langchain.text_splitter import RecursiveCharacterTextSplitter\n",
    "from langchain_community.chat_models import ChatOpenAI\n",
    "from langchain_community.document_loaders import WebBaseLoader\n",
    "from langchain_community.embeddings import OpenAIEmbeddings\n",
    "from langchain_community.vectorstores import Chroma\n",
    "from langchain_core.output_parsers import StrOutputParser\n",
    "from langchain_core.runnables import RunnablePassthrough"
   ]
  },
  {
   "cell_type": "code",
   "execution_count": 10,
   "metadata": {},
   "outputs": [],
   "source": [
    "from langchain_community.document_loaders.csv_loader import CSVLoader\n",
    "\n",
    "loader = CSVLoader(\n",
    "    file_path=\"./emails.csv\", \n",
    "    encoding=\"utf-8\",\n",
    "    csv_args={\n",
    "        \"delimiter\": \",\",\n",
    "        \"quotechar\": '\"',\n",
    "        \"fieldnames\": [\"From\", \"To\", \"Date\", \"Subject\", \"Message-Id\", \"In-Reply-To\", \"References\", \"Body\"]\n",
    "    },\n",
    ")\n",
    "data = loader.load()\n",
    "\n"
   ]
  },
  {
   "cell_type": "code",
   "execution_count": 12,
   "metadata": {},
   "outputs": [
    {
     "name": "stdout",
     "output_type": "stream",
     "text": [
      "[Document(page_content='From: From\\nTo: To\\nDate: Date\\nSubject: Subject\\nMessage-Id: Message-Id\\nIn-Reply-To: In-Reply-To\\nReferences: References\\nBody: Body', metadata={'source': './emails.csv', 'row': 0}), Document(page_content='From: Naoya Inoue <ninoue@galapagos-island.net>\\nTo: 井上直也 <inoue405@gmail.com>\\nDate: Fri, 05 Jan 2024 13:13:45 +0000\\nSubject: Re: icloudの容量を節約したい。\\nMessage-Id: <a586cab4-1906-41d9-a1fe-f228ba3820e7@me.com>\\nIn-Reply-To: <CAE_FsL=VE959YOAJ3_o3Uo4gF6viXj2b_67hv3i8LbnS1ZG1Zw@mail.gmail.com>\\nReferences: <CAE_FsLk_to1+gMDipA4UqcnK1nPKzuwum0i8oue7s9N-HSx4yQ@mail.gmail.com> <daf3b831-c984-49cf-8bdc-3c62da0ef0ba@me.com> <CAE_FsLnQSXbP0y+x+BmsHphjPSe=dtWX9tC61dZMiAcqgakO3Q@mail.gmail.com> <ecb8b1cb-1f6a-4408-9711-ff802919ebac@me.com> <CAE_FsL=VE959YOAJ3_o3Uo4gF6viXj2b_67hv3i8LbnS1ZG1Zw@mail.gmail.com>\\nBody: Fire TVって一つあれば大丈夫ですよ。 2024年1月5日 22:13、井上直也 <inoue405@gmail.com>からのメール： ありがとうございます。Amazon photoをインストールして試して見ます。 写真データの出し入れが自在に出来そうであれば、もう一つfire TVを購入して使うか、なんだか謎の機械、Apple TVを試しに購入してみるか検討します。 色々ありがとうございました。 2024年1月5日(金) 22:12 Naoya Inoue < ninoue@galapagos-island.net >: Fire TVがあるんですね。 写真を大画面で見たいだけなら、Apple 4K TVはいらないんじゃないかな？ 2024年1月5日 22:11、井上直也 < inoue405@gmail.com >からのメール： Fire TVは、韓ドラ用で嫁さんが使っている様なので一度試してみます。 Apple TVもなんだか仕様や使い方がイマイチわかりませんが、購入して試してみることにします。 写真は、icloudの容量が超える様なら容量追加もしくは、HDDに一部退避を検討してみます。 ITに疎いじじーですが皆さんのおかげで、少し仕組みがわかった様な気がします。 ありがとうございました。 2024年1月5日(金) 22:11 Naoya Inoue < ninoue@galapagos-island.net >: Apple４K TVを、使うことが前提ですかね。 それならiCloud写真一択だと思うのですよ。 iPhoneやiPadでミラーリングさせれば良いので、想定している使い方は可能です。 AppleTV用にAmazonPhotosアプリがあれば、AppleTVで直接写真閲覧もできるはずですが、アプリがあるかは未確認です。 その他、FireTVを導入する手もありますね。 2024年1月5日 22:10、井上直也 < inoue405@gmail.com >からのメール： GoogleやOneDriveなどのApple以外のクラウドサービスを利用する手はありますが、量が多いと費用が発生します。 また、写真アプリではアクセスできず、ファイルアプリや専用アプリからのアクセスになります。 ちなみに、AmazonのPrime会員なら、無制限で写真を保存できます。 Amazon Photos 動画には上限ありますが、写真は無制限でフル解像度で保存できるので、古い写真を退避させるには良いかもです。 写真の管理や閲覧には専用アプリが必要です。 2024年1月5日(金) 22:08 Naoya Inoue < ninoue@galapagos-island.net >: なるほど、Icloudの仕組みがよくわからなくですみません。 Apple TVやPCにicloudの容量を超えるオリジナルを保存して使うことはできないんですね。 御指南いただいた方法でやってみます。 ありがとうございました。 Apple 4K TV使用前提ではありませんが、やりたいことは今まで貯めてきた写真を管理して、大きな画面でみんなで楽しみたいのです。 iphoneだけでは出来ない様なので安いミラーリングのコネクターを購入しましたがうまくいきませんでした。 iphoneユーザーで大量の写真を皆さんどのように管理されているのでかなと思いました。 やっぱりicloudで容量追加するのが一番の様ですね。自宅のHDDに保存できるといいなと思いましたが・・・ 2024年1月5日 22:07、井上直也 < inoue405@gmail.com >からのメール： >HDDやPCに保存して見たい時に写真アプリを使ってみることはできますか？ 写真アプリに外部のリソースを参照する機能はないので、自宅のPC（HDD）をネット上に公開しても不可能じゃないですかね。 写真アプリを使いたいなら、一旦PC（HDD）に古い写真を退避して、共有アルバムに見たい写真だけアップすれば良いのでは？ 5000枚が上限ですが、iCloudの容量を圧迫しませんので。 iPhone、iPad、Mac の写真アプリで共有アルバムを使う方法 - Apple サポート (日本) 2024年1月5日(金) 22:02 井上直也 < inoue405@gmail.com >: 写真が３万枚を超えてきてiClouｄの９０パーセントになっています。icloudの量を節約するために写真データの一部をHDDやPCに保存して見たい時に写真アプリを使ってみることはできますか？ icloud写真を使う場合、オリジナルがicloudの容量を超える場合はお金を払って容量を増やすしかないのでしょうでしょうか？ 現在１００Gです。今以上に毎月の使用量を払いたくないのです。 よろしくお願いします。', metadata={'source': './emails.csv', 'row': 1}), Document(page_content='From: Naoya Inoue <ninoue@galapagos-island.net>\\nTo: 井上直也 <inoue405@gmail.com>\\nDate: Fri, 05 Jan 2024 13:11:12 +0000\\nSubject: Re: icloudの容量を節約したい。\\nMessage-Id: <daf3b831-c984-49cf-8bdc-3c62da0ef0ba@me.com>\\nIn-Reply-To: <CAE_FsLk_to1+gMDipA4UqcnK1nPKzuwum0i8oue7s9N-HSx4yQ@mail.gmail.com>\\nReferences: <CAE_FsLk_to1+gMDipA4UqcnK1nPKzuwum0i8oue7s9N-HSx4yQ@mail.gmail.com>\\nBody: Apple４K TVを、使うことが前提ですかね。 それならiCloud写真一択だと思うのですよ。 iPhoneやiPadでミラーリングさせれば良いので、想定している使い方は可能です。 AppleTV用にAmazonPhotosアプリがあれば、AppleTVで直接写真閲覧もできるはずですが、アプリがあるかは未確認です。 その他、FireTVを導入する手もありますね。 2024年1月5日 22:10、井上直也 <inoue405@gmail.com>からのメール： GoogleやOneDriveなどのApple以外のクラウドサービスを利用する手はありますが、量が多いと費用が発生します。 また、写真アプリではアクセスできず、ファイルアプリや専用アプリからのアクセスになります。 ちなみに、AmazonのPrime会員なら、無制限で写真を保存できます。 Amazon Photos 動画には上限ありますが、写真は無制限でフル解像度で保存できるので、古い写真を退避させるには良いかもです。 写真の管理や閲覧には専用アプリが必要です。 2024年1月5日(金) 22:08 Naoya Inoue < ninoue@galapagos-island.net >: なるほど、Icloudの仕組みがよくわからなくですみません。 Apple TVやPCにicloudの容量を超えるオリジナルを保存して使うことはできないんですね。 御指南いただいた方法でやってみます。 ありがとうございました。 Apple 4K TV使用前提ではありませんが、やりたいことは今まで貯めてきた写真を管理して、大きな画面でみんなで楽しみたいのです。 iphoneだけでは出来ない様なので安いミラーリングのコネクターを購入しましたがうまくいきませんでした。 iphoneユーザーで大量の写真を皆さんどのように管理されているのでかなと思いました。 やっぱりicloudで容量追加するのが一番の様ですね。自宅のHDDに保存できるといいなと思いましたが・・・ 2024年1月5日 22:07、井上直也 < inoue405@gmail.com >からのメール： >HDDやPCに保存して見たい時に写真アプリを使ってみることはできますか？ 写真アプリに外部のリソースを参照する機能はないので、自宅のPC（HDD）をネット上に公開しても不可能じゃないですかね。 写真アプリを使いたいなら、一旦PC（HDD）に古い写真を退避して、共有アルバムに見たい写真だけアップすれば良いのでは？ 5000枚が上限ですが、iCloudの容量を圧迫しませんので。 iPhone、iPad、Mac の写真アプリで共有アルバムを使う方法 - Apple サポート (日本) 2024年1月5日(金) 22:02 井上直也 < inoue405@gmail.com >: 写真が３万枚を超えてきてiClouｄの９０パーセントになっています。icloudの量を節約するために写真データの一部をHDDやPCに保存して見たい時に写真アプリを使ってみることはできますか？ icloud写真を使う場合、オリジナルがicloudの容量を超える場合はお金を払って容量を増やすしかないのでしょうでしょうか？ 現在１００Gです。今以上に毎月の使用量を払いたくないのです。 よろしくお願いします。', metadata={'source': './emails.csv', 'row': 2})]\n"
     ]
    }
   ],
   "source": [
    "print(data[:3])\n"
   ]
  },
  {
   "cell_type": "code",
   "execution_count": 20,
   "metadata": {},
   "outputs": [
    {
     "name": "stdout",
     "output_type": "stream",
     "text": [
      "From: Naoya Inoue <ninoue@galapagos-island.net>\n",
      "To: 井上直也 <inoue405@gmail.com>\n",
      "Date: Fri, 05 Jan 2024 13:11:12 +0000\n",
      "Subject: Re: icloudの容量を節約したい。\n",
      "Message-Id: <daf3b831-c984-49cf-8bdc-3c62da0ef0ba@me.com>\n",
      "In-Reply-To: <CAE_FsLk_to1+gMDipA4UqcnK1nPKzuwum0i8oue7s9N-HSx4yQ@mail.gmail.com>\n",
      "References: <CAE_FsLk_to1+gMDipA4UqcnK1nPKzuwum0i8oue7s9N-HSx4yQ@mail.gmail.com>\n",
      "Body: Apple４K TVを、使うことが前提ですかね。 それならiCloud写真一択だと思うのですよ。 iPhoneやiPadでミラーリングさせれば良いので、想定している使い方は可能です。 AppleTV用にAmazonPhotosアプリがあれば、AppleTVで直接写真閲覧もできるはずですが、アプリがあるかは未確認です。 その他、FireTVを導入する手もありますね。 2024年1月5日 22:10、井上直也 <inoue405@gmail.com>からのメール： GoogleやOneDriveなどのApple以外のクラウドサービスを利用する手はありますが、量が多いと費用が発生します。 また、写真アプリではアクセスできず、ファイルアプリや専用アプリからのアクセスになります。 ちなみに、AmazonのPrime会員なら、無制限で写真を保存できます。 Amazon Photos 動画には上限ありますが、写真は無制限でフル解像度で保存できるので、古い写真を退避させるには良いかもです。 写真の管理や閲覧には専用アプリが必要です。 2024年1月5日(金) 22:08 Naoya Inoue < ninoue@galapagos-island.net >: なるほど、Icloudの仕組みがよくわからなくですみません。 Apple TVやPCにicloudの容量を超えるオリジナルを保存して使うことはできないんですね。 御指南いただいた方法でやってみます。 ありがとうございました。 Apple 4K TV使用前提ではありませんが、やりたいことは今まで貯めてきた写真を管理して、大きな画面でみんなで楽しみたいのです。 iphoneだけでは出来ない様なので安いミラーリングのコネクターを購入しましたがうまくいきませんでした。 iphoneユーザーで大量の写真を皆さんどのように管理されているのでかなと思いました。 やっぱりicloudで容量追加するのが一番の様ですね。自宅のHDDに保存できるといいなと思いましたが・・・ 2024年1月5日 22:07、井上直也 < inoue405@gmail.com >からのメール： >HDDやPCに保存して見たい時に写真アプリを使ってみることはできますか？ 写真アプリに外部のリソースを参照する機能はないので、自宅のPC（HDD）をネット上に公開しても不可能じゃないですかね。 写真アプリを使いたいなら、一旦PC（HDD）に古い写真を退避して、共有アルバムに見たい写真だけアップすれば良いのでは？ 5000枚が上限ですが、iCloudの容量を圧迫しませんので。 iPhone、iPad、Mac の写真アプリで共有アルバムを使う方法 - Apple サポート (日本) 2024年1月5日(金) 22:02 井上直也 < inoue405@gmail.com >: 写真が３万枚を超えてきてiClouｄの９０パーセントになっています。icloudの量を節約するために写真データの一部をHDDやPCに保存して見たい時に写真アプリを使ってみることはできますか？ icloud写真を使う場合、オリジナルがicloudの容量を超える場合はお金を払って容量を増やすしかないのでしょうでしょうか？ 現在１００Gです。今以上に毎月の使用量を払いたくないのです。 よろしくお願いします。\n"
     ]
    }
   ],
   "source": [
    "len(data[0].page_content)\n",
    "print(data[2].page_content)"
   ]
  },
  {
   "cell_type": "code",
   "execution_count": null,
   "metadata": {},
   "outputs": [],
   "source": [
    "print(len(data[6].page_content))"
   ]
  },
  {
   "cell_type": "code",
   "execution_count": 42,
   "metadata": {},
   "outputs": [],
   "source": [
    "text_splitter = RecursiveCharacterTextSplitter(chunk_size=800, chunk_overlap=200, add_start_index=True)\n",
    "splits = text_splitter.split_documents(data)"
   ]
  },
  {
   "cell_type": "code",
   "execution_count": 35,
   "metadata": {},
   "outputs": [
    {
     "name": "stdout",
     "output_type": "stream",
     "text": [
      "[Document(page_content='From: From\\nTo: To\\nDate: Date\\nSubject: Subject\\nMessage-Id: Message-Id\\nIn-Reply-To: In-Reply-To\\nReferences: References\\nBody: Body', metadata={'source': './emails.csv', 'row': 0, 'start_index': 0}), Document(page_content='From: Naoya Inoue <ninoue@galapagos-island.net>\\nTo: 井上直也 <inoue405@gmail.com>\\nDate: Fri, 05 Jan 2024 13:13:45 +0000\\nSubject: Re: icloudの容量を節約したい。\\nMessage-Id: <a586cab4-1906-41d9-a1fe-f228ba3820e7@me.com>\\nIn-Reply-To: <CAE_FsL=VE959YOAJ3_o3Uo4gF6viXj2b_67hv3i8LbnS1ZG1Zw@mail.gmail.com>\\nReferences: <CAE_FsLk_to1+gMDipA4UqcnK1nPKzuwum0i8oue7s9N-HSx4yQ@mail.gmail.com> <daf3b831-c984-49cf-8bdc-3c62da0ef0ba@me.com> <CAE_FsLnQSXbP0y+x+BmsHphjPSe=dtWX9tC61dZMiAcqgakO3Q@mail.gmail.com> <ecb8b1cb-1f6a-4408-9711-ff802919ebac@me.com> <CAE_FsL=VE959YOAJ3_o3Uo4gF6viXj2b_67hv3i8LbnS1ZG1Zw@mail.gmail.com>', metadata={'source': './emails.csv', 'row': 1, 'start_index': 0}), Document(page_content='Body: Fire TVって一つあれば大丈夫ですよ。 2024年1月5日 22:13、井上直也 <inoue405@gmail.com>からのメール： ありがとうございます。Amazon photoをインストールして試して見ます。 写真データの出し入れが自在に出来そうであれば、もう一つfire TVを購入して使うか、なんだか謎の機械、Apple TVを試しに購入してみるか検討します。 色々ありがとうございました。 2024年1月5日(金) 22:12 Naoya Inoue < ninoue@galapagos-island.net >: Fire TVがあるんですね。 写真を大画面で見たいだけなら、Apple 4K TVはいらないんじゃないかな？ 2024年1月5日 22:11、井上直也 < inoue405@gmail.com >からのメール： Fire TVは、韓ドラ用で嫁さんが使っている様なので一度試してみます。 Apple TVもなんだか仕様や使い方がイマイチわかりませんが、購入して試してみることにします。 写真は、icloudの容量が超える様なら容量追加もしくは、HDDに一部退避を検討してみます。 ITに疎いじじーですが皆さんのおかげで、少し仕組みがわかった様な気がします。 ありがとうございました。 2024年1月5日(金) 22:11 Naoya Inoue < ninoue@galapagos-island.net >: Apple４K TVを、使うことが前提ですかね。 それならiCloud写真一択だと思うのですよ。 iPhoneやiPadでミラーリングさせれば良いので、想定している使い方は可能です。 AppleTV用にAmazonPhotosアプリがあれば、AppleTVで直接写真閲覧もできるはずですが、アプリがあるかは未確認です。 その他、FireTVを導入する手もありますね。 2024年1月5日 22:10、井上直也 < inoue405@gmail.com >からのメール： GoogleやOneDriveなどのApple以外のクラウドサービスを利用する手はありますが、量が多いと費用が発生します。 また、写真アプリではアクセスできず、ファイルアプリや専用アプリからのアクセスになります。', metadata={'source': './emails.csv', 'row': 1, 'start_index': 597}), Document(page_content='その他、FireTVを導入する手もありますね。 2024年1月5日 22:10、井上直也 < inoue405@gmail.com >からのメール： GoogleやOneDriveなどのApple以外のクラウドサービスを利用する手はありますが、量が多いと費用が発生します。 また、写真アプリではアクセスできず、ファイルアプリや専用アプリからのアクセスになります。 ちなみに、AmazonのPrime会員なら、無制限で写真を保存できます。 Amazon Photos 動画には上限ありますが、写真は無制限でフル解像度で保存できるので、古い写真を退避させるには良いかもです。 写真の管理や閲覧には専用アプリが必要です。 2024年1月5日(金) 22:08 Naoya Inoue < ninoue@galapagos-island.net >: なるほど、Icloudの仕組みがよくわからなくですみません。 Apple TVやPCにicloudの容量を超えるオリジナルを保存して使うことはできないんですね。 御指南いただいた方法でやってみます。 ありがとうございました。 Apple 4K TV使用前提ではありませんが、やりたいことは今まで貯めてきた写真を管理して、大きな画面でみんなで楽しみたいのです。 iphoneだけでは出来ない様なので安いミラーリングのコネクターを購入しましたがうまくいきませんでした。 iphoneユーザーで大量の写真を皆さんどのように管理されているのでかなと思いました。 やっぱりicloudで容量追加するのが一番の様ですね。自宅のHDDに保存できるといいなと思いましたが・・・ 2024年1月5日 22:07、井上直也 < inoue405@gmail.com >からのメール： >HDDやPCに保存して見たい時に写真アプリを使ってみることはできますか？ 写真アプリに外部のリソースを参照する機能はないので、自宅のPC（HDD）をネット上に公開しても不可能じゃないですかね。 写真アプリを使いたいなら、一旦PC（HDD）に古い写真を退避して、共有アルバムに見たい写真だけアップすれば良いのでは？ 5000枚が上限ですが、iCloudの容量を圧迫しませんので。 iPhone、iPad、Mac の写真アプリで共有アルバムを使う方法 - Apple サポート (日本)', metadata={'source': './emails.csv', 'row': 1, 'start_index': 1387}), Document(page_content='写真アプリを使いたいなら、一旦PC（HDD）に古い写真を退避して、共有アルバムに見たい写真だけアップすれば良いのでは？ 5000枚が上限ですが、iCloudの容量を圧迫しませんので。 iPhone、iPad、Mac の写真アプリで共有アルバムを使う方法 - Apple サポート (日本) 2024年1月5日(金) 22:02 井上直也 < inoue405@gmail.com >: 写真が３万枚を超えてきてiClouｄの９０パーセントになっています。icloudの量を節約するために写真データの一部をHDDやPCに保存して見たい時に写真アプリを使ってみることはできますか？ icloud写真を使う場合、オリジナルがicloudの容量を超える場合はお金を払って容量を増やすしかないのでしょうでしょうか？ 現在１００Gです。今以上に毎月の使用量を払いたくないのです。 よろしくお願いします。', metadata={'source': './emails.csv', 'row': 1, 'start_index': 2239}), Document(page_content='From: Naoya Inoue <ninoue@galapagos-island.net>\\nTo: 井上直也 <inoue405@gmail.com>\\nDate: Fri, 05 Jan 2024 13:11:12 +0000\\nSubject: Re: icloudの容量を節約したい。\\nMessage-Id: <daf3b831-c984-49cf-8bdc-3c62da0ef0ba@me.com>\\nIn-Reply-To: <CAE_FsLk_to1+gMDipA4UqcnK1nPKzuwum0i8oue7s9N-HSx4yQ@mail.gmail.com>\\nReferences: <CAE_FsLk_to1+gMDipA4UqcnK1nPKzuwum0i8oue7s9N-HSx4yQ@mail.gmail.com>', metadata={'source': './emails.csv', 'row': 2, 'start_index': 0}), Document(page_content='Body: Apple４K TVを、使うことが前提ですかね。 それならiCloud写真一択だと思うのですよ。 iPhoneやiPadでミラーリングさせれば良いので、想定している使い方は可能です。 AppleTV用にAmazonPhotosアプリがあれば、AppleTVで直接写真閲覧もできるはずですが、アプリがあるかは未確認です。 その他、FireTVを導入する手もありますね。 2024年1月5日 22:10、井上直也 <inoue405@gmail.com>からのメール： GoogleやOneDriveなどのApple以外のクラウドサービスを利用する手はありますが、量が多いと費用が発生します。 また、写真アプリではアクセスできず、ファイルアプリや専用アプリからのアクセスになります。 ちなみに、AmazonのPrime会員なら、無制限で写真を保存できます。 Amazon Photos 動画には上限ありますが、写真は無制限でフル解像度で保存できるので、古い写真を退避させるには良いかもです。 写真の管理や閲覧には専用アプリが必要です。 2024年1月5日(金) 22:08 Naoya Inoue < ninoue@galapagos-island.net >: なるほど、Icloudの仕組みがよくわからなくですみません。 Apple TVやPCにicloudの容量を超えるオリジナルを保存して使うことはできないんですね。 御指南いただいた方法でやってみます。 ありがとうございました。 Apple 4K TV使用前提ではありませんが、やりたいことは今まで貯めてきた写真を管理して、大きな画面でみんなで楽しみたいのです。 iphoneだけでは出来ない様なので安いミラーリングのコネクターを購入しましたがうまくいきませんでした。 iphoneユーザーで大量の写真を皆さんどのように管理されているのでかなと思いました。 やっぱりicloudで容量追加するのが一番の様ですね。自宅のHDDに保存できるといいなと思いましたが・・・ 2024年1月5日 22:07、井上直也 < inoue405@gmail.com >からのメール： >HDDやPCに保存して見たい時に写真アプリを使ってみることはできますか？', metadata={'source': './emails.csv', 'row': 2, 'start_index': 367}), Document(page_content='iphoneユーザーで大量の写真を皆さんどのように管理されているのでかなと思いました。 やっぱりicloudで容量追加するのが一番の様ですね。自宅のHDDに保存できるといいなと思いましたが・・・ 2024年1月5日 22:07、井上直也 < inoue405@gmail.com >からのメール： >HDDやPCに保存して見たい時に写真アプリを使ってみることはできますか？ 写真アプリに外部のリソースを参照する機能はないので、自宅のPC（HDD）をネット上に公開しても不可能じゃないですかね。 写真アプリを使いたいなら、一旦PC（HDD）に古い写真を退避して、共有アルバムに見たい写真だけアップすれば良いのでは？ 5000枚が上限ですが、iCloudの容量を圧迫しませんので。 iPhone、iPad、Mac の写真アプリで共有アルバムを使う方法 - Apple サポート (日本) 2024年1月5日(金) 22:02 井上直也 < inoue405@gmail.com >: 写真が３万枚を超えてきてiClouｄの９０パーセントになっています。icloudの量を節約するために写真データの一部をHDDやPCに保存して見たい時に写真アプリを使ってみることはできますか？ icloud写真を使う場合、オリジナルがicloudの容量を超える場合はお金を払って容量を増やすしかないのでしょうでしょうか？ 現在１００Gです。今以上に毎月の使用量を払いたくないのです。 よろしくお願いします。', metadata={'source': './emails.csv', 'row': 2, 'start_index': 1136}), Document(page_content='From: Naoya Inoue <ninoue@galapagos-island.net>\\nTo: 井上直也 <inoue405@gmail.com>\\nDate: Fri, 05 Jan 2024 13:12:45 +0000\\nSubject: Re: icloudの容量を節約したい。\\nMessage-Id: <ecb8b1cb-1f6a-4408-9711-ff802919ebac@me.com>\\nIn-Reply-To: <CAE_FsLnQSXbP0y+x+BmsHphjPSe=dtWX9tC61dZMiAcqgakO3Q@mail.gmail.com>\\nReferences: <CAE_FsLk_to1+gMDipA4UqcnK1nPKzuwum0i8oue7s9N-HSx4yQ@mail.gmail.com> <daf3b831-c984-49cf-8bdc-3c62da0ef0ba@me.com> <CAE_FsLnQSXbP0y+x+BmsHphjPSe=dtWX9tC61dZMiAcqgakO3Q@mail.gmail.com>', metadata={'source': './emails.csv', 'row': 3, 'start_index': 0}), Document(page_content='Body: Fire TVがあるんですね。 写真を大画面で見たいだけなら、Apple 4K TVはいらないんじゃないかな？ 2024年1月5日 22:11、井上直也 <inoue405@gmail.com>からのメール： Fire TVは、韓ドラ用で嫁さんが使っている様なので一度試してみます。 Apple TVもなんだか仕様や使い方がイマイチわかりませんが、購入して試してみることにします。 写真は、icloudの容量が超える様なら容量追加もしくは、HDDに一部退避を検討してみます。 ITに疎いじじーですが皆さんのおかげで、少し仕組みがわかった様な気がします。 ありがとうございました。 2024年1月5日(金) 22:11 Naoya Inoue < ninoue@galapagos-island.net >: Apple４K TVを、使うことが前提ですかね。 それならiCloud写真一択だと思うのですよ。 iPhoneやiPadでミラーリングさせれば良いので、想定している使い方は可能です。 AppleTV用にAmazonPhotosアプリがあれば、AppleTVで直接写真閲覧もできるはずですが、アプリがあるかは未確認です。 その他、FireTVを導入する手もありますね。 2024年1月5日 22:10、井上直也 < inoue405@gmail.com >からのメール： GoogleやOneDriveなどのApple以外のクラウドサービスを利用する手はありますが、量が多いと費用が発生します。 また、写真アプリではアクセスできず、ファイルアプリや専用アプリからのアクセスになります。 ちなみに、AmazonのPrime会員なら、無制限で写真を保存できます。 Amazon Photos 動画には上限ありますが、写真は無制限でフル解像度で保存できるので、古い写真を退避させるには良いかもです。 写真の管理や閲覧には専用アプリが必要です。 2024年1月5日(金) 22:08 Naoya Inoue < ninoue@galapagos-island.net >: なるほど、Icloudの仕組みがよくわからなくですみません。 Apple TVやPCにicloudの容量を超えるオリジナルを保存して使うことはできないんですね。 御指南いただいた方法でやってみます。', metadata={'source': './emails.csv', 'row': 3, 'start_index': 482}), Document(page_content='写真の管理や閲覧には専用アプリが必要です。 2024年1月5日(金) 22:08 Naoya Inoue < ninoue@galapagos-island.net >: なるほど、Icloudの仕組みがよくわからなくですみません。 Apple TVやPCにicloudの容量を超えるオリジナルを保存して使うことはできないんですね。 御指南いただいた方法でやってみます。 ありがとうございました。 Apple 4K TV使用前提ではありませんが、やりたいことは今まで貯めてきた写真を管理して、大きな画面でみんなで楽しみたいのです。 iphoneだけでは出来ない様なので安いミラーリングのコネクターを購入しましたがうまくいきませんでした。 iphoneユーザーで大量の写真を皆さんどのように管理されているのでかなと思いました。 やっぱりicloudで容量追加するのが一番の様ですね。自宅のHDDに保存できるといいなと思いましたが・・・ 2024年1月5日 22:07、井上直也 < inoue405@gmail.com >からのメール： >HDDやPCに保存して見たい時に写真アプリを使ってみることはできますか？ 写真アプリに外部のリソースを参照する機能はないので、自宅のPC（HDD）をネット上に公開しても不可能じゃないですかね。 写真アプリを使いたいなら、一旦PC（HDD）に古い写真を退避して、共有アルバムに見たい写真だけアップすれば良いのでは？ 5000枚が上限ですが、iCloudの容量を圧迫しませんので。 iPhone、iPad、Mac の写真アプリで共有アルバムを使う方法 - Apple サポート (日本) 2024年1月5日(金) 22:02 井上直也 < inoue405@gmail.com >: 写真が３万枚を超えてきてiClouｄの９０パーセントになっています。icloudの量を節約するために写真データの一部をHDDやPCに保存して見たい時に写真アプリを使ってみることはできますか？ icloud写真を使う場合、オリジナルがicloudの容量を超える場合はお金を払って容量を増やすしかないのでしょうでしょうか？ 現在１００Gです。今以上に毎月の使用量を払いたくないのです。 よろしくお願いします。', metadata={'source': './emails.csv', 'row': 3, 'start_index': 1288}), Document(page_content='From: Naoya Inoue <ninoue@galapagos-island.net>\\nTo: 井上直也 <inoue405@gmail.com>\\nDate: Fri, 05 Jan 2024 13:04:25 +0000\\nSubject: Re: icloudの容量を節約したい。\\nMessage-Id: <0de6a730-8329-446c-9198-bc62e1e56be8@me.com>\\nIn-Reply-To: <CAE_FsLmB+4i6PVryHcEORiHnjkot0kGhzYEoZ7X138YLgTRbSQ@mail.gmail.com>\\nReferences: <CAE_FsLmB+4i6PVryHcEORiHnjkot0kGhzYEoZ7X138YLgTRbSQ@mail.gmail.com>\\nBody: 一度googleフォトに入れたことがあったのですが、仕組みがわかりませんがgoogleと同期すると、Appleフォトにも影響があり、オリジナルがGoogleに移ってしまい、容量がいっぱいになったら料金請求されたので、元に戻そうとしたら、データが元通りにAppleに戻らなくなってしまい、色々調べて苦労して元に戻した記憶があります。それ以来、他のクラウドには手を出さないようにしています。 やっぱり、大事なデータを保管するためにはそれなりの対価を支払う必要があるんですね。 今は、IOデータのHDDにバックアップしていますが、IOデータもアップルのバックアップアプリのサポートを辞めてしまったのでいつまで使えるかわかりません。 長くなりましたが、ありがとうございました。また色々教えてください。 2024年1月5日 22:02、井上直也 <inoue405@gmail.com>からのメール： 写真が３万枚を超えてきてiClouｄの９０パーセントになっています。icloudの量を節約するために写真データの一部をHDDやPCに保存して見たい時に写真アプリを使ってみることはできますか？ icloud写真を使う場合、オリジナルがicloudの容量を超える場合はお金を払って容量を増やすしかないのでしょうでしょうか？ 現在１００Gです。今以上に毎月の使用量を払いたくないのです。 よろしくお願いします。', metadata={'source': './emails.csv', 'row': 4, 'start_index': 0}), Document(page_content='From: Naoya Inoue <ninoue@galapagos-island.net>\\nTo: 井上直也 <inoue405@gmail.com>\\nDate: Fri, 05 Jan 2024 13:08:42 +0000\\nSubject: Re: icloudの容量を節約したい。\\nMessage-Id: <c8a3a235-63bd-4473-8af9-ea21e244ade1@me.com>\\nIn-Reply-To: <CAE_FsLkLm3U=a5VPY527USNAQ4Ld03cJugbbY5aMcyk_ZjWcaQ@mail.gmail.com>\\nReferences: <CAE_FsLmB+4i6PVryHcEORiHnjkot0kGhzYEoZ7X138YLgTRbSQ@mail.gmail.com> <CAE_FsLkLm3U=a5VPY527USNAQ4Ld03cJugbbY5aMcyk_ZjWcaQ@mail.gmail.com>', metadata={'source': './emails.csv', 'row': 5, 'start_index': 0}), Document(page_content='Body: なるほど、Icloudの仕組みがよくわからなくですみません。 Apple TVやPCにicloudの容量を超えるオリジナルを保存して使うことはできないんですね。 御指南いただいた方法でやってみます。 ありがとうございました。 Apple 4K TV使用前提ではありませんが、やりたいことは今まで貯めてきた写真を管理して、大きな画面でみんなで楽しみたいのです。 iphoneだけでは出来ない様なので安いミラーリングのコネクターを購入しましたがうまくいきませんでした。 iphoneユーザーで大量の写真を皆さんどのように管理されているのでかなと思いました。 やっぱりicloudで容量追加するのが一番の様ですね。自宅のHDDに保存できるといいなと思いましたが・・・ 2024年1月5日 22:07、井上直也 <inoue405@gmail.com>からのメール： >HDDやPCに保存して見たい時に写真アプリを使ってみることはできますか？ 写真アプリに外部のリソースを参照する機能はないので、自宅のPC（HDD）をネット上に公開しても不可能じゃないですかね。 写真アプリを使いたいなら、一旦PC（HDD）に古い写真を退避して、共有アルバムに見たい写真だけアップすれば良いのでは？ 5000枚が上限ですが、iCloudの容量を圧迫しませんので。 iPhone、iPad、Mac の写真アプリで共有アルバムを使う方法 - Apple サポート (日本) 2024年1月5日(金) 22:02 井上直也 < inoue405@gmail.com >: 写真が３万枚を超えてきてiClouｄの９０パーセントになっています。icloudの量を節約するために写真データの一部をHDDやPCに保存して見たい時に写真アプリを使ってみることはできますか？ icloud写真を使う場合、オリジナルがicloudの容量を超える場合はお金を払って容量を増やすしかないのでしょうでしょうか？ 現在１００Gです。今以上に毎月の使用量を払いたくないのです。 よろしくお願いします。', metadata={'source': './emails.csv', 'row': 5, 'start_index': 436})]\n"
     ]
    },
    {
     "data": {
      "text/plain": [
       "127"
      ]
     },
     "execution_count": 35,
     "metadata": {},
     "output_type": "execute_result"
    }
   ],
   "source": [
    "print(splits)\n",
    "len(splits[0].page_content)"
   ]
  },
  {
   "cell_type": "code",
   "execution_count": 43,
   "metadata": {},
   "outputs": [
    {
     "name": "stderr",
     "output_type": "stream",
     "text": [
      "/home/ninoue/trial/venv/lib/python3.10/site-packages/langchain_core/_api/deprecation.py:189: LangChainDeprecationWarning: The class `OpenAIEmbeddings` was deprecated in LangChain 0.1.0 and will be removed in 0.2.0. Use langchain_openai.OpenAIEmbeddings instead.\n",
      "  warn_deprecated(\n"
     ]
    }
   ],
   "source": [
    "vectorstore = Chroma.from_documents(documents=splits, embedding=OpenAIEmbeddings())"
   ]
  },
  {
   "cell_type": "code",
   "execution_count": 37,
   "metadata": {},
   "outputs": [
    {
     "name": "stdout",
     "output_type": "stream",
     "text": [
      "From: Naoya Inoue <ninoue@galapagos-island.net>\n",
      "To: 井上直也 <inoue405@gmail.com>\n",
      "Date: Fri, 05 Jan 2024 13:04:25 +0000\n",
      "Subject: Re: icloudの容量を節約したい。\n",
      "Message-Id: <0de6a730-8329-446c-9198-bc62e1e56be8@me.com>\n",
      "In-Reply-To: <CAE_FsLmB+4i6PVryHcEORiHnjkot0kGhzYEoZ7X138YLgTRbSQ@mail.gmail.com>\n",
      "References: <CAE_FsLmB+4i6PVryHcEORiHnjkot0kGhzYEoZ7X138YLgTRbSQ@mail.gmail.com>\n",
      "Body: 一度googleフォトに入れたことがあったのですが、仕組みがわかりませんがgoogleと同期すると、Appleフォトにも影響があり、オリジナルがGoogleに移ってしまい、容量がいっぱいになったら料金請求されたので、元に戻そうとしたら、データが元通りにAppleに戻らなくなってしまい、色々調べて苦労して元に戻した記憶があります。それ以来、他のクラウドには手を出さないようにしています。 やっぱり、大事なデータを保管するためにはそれなりの対価を支払う必要があるんですね。 今は、IOデータのHDDにバックアップしていますが、IOデータもアップルのバックアップアプリのサポートを辞めてしまったのでいつまで使えるかわかりません。 長くなりましたが、ありがとうございました。また色々教えてください。 2024年1月5日 22:02、井上直也 <inoue405@gmail.com>からのメール： 写真が３万枚を超えてきてiClouｄの９０パーセントになっています。icloudの量を節約するために写真データの一部をHDDやPCに保存して見たい時に写真アプリを使ってみることはできますか？ icloud写真を使う場合、オリジナルがicloudの容量を超える場合はお金を払って容量を増やすしかないのでしょうでしょうか？ 現在１００Gです。今以上に毎月の使用量を払いたくないのです。 よろしくお願いします。\n"
     ]
    }
   ],
   "source": [
    "retriever = vectorstore.as_retriever(search_type=\"similarity\", search_kwargs={\"k\": 6})\n",
    "retrieved_docs = retriever.invoke(\"やりたいことは、何ですか？\")\n",
    "\n",
    "print(retrieved_docs[0].page_content)"
   ]
  },
  {
   "cell_type": "code",
   "execution_count": 40,
   "metadata": {},
   "outputs": [
    {
     "name": "stdout",
     "output_type": "stream",
     "text": [
      "Body: なるほど、Icloudの仕組みがよくわからなくですみません。 Apple TVやPCにicloudの容量を超えるオリジナルを保存して使うことはできないんですね。 御指南いただいた方法でやってみます。 ありがとうございました。 Apple 4K TV使用前提ではありませんが、やりたいことは今まで貯めてきた写真を管理して、大きな画面でみんなで楽しみたいのです。 iphoneだけでは出来ない様なので安いミラーリングのコネクターを購入しましたがうまくいきませんでした。 iphoneユーザーで大量の写真を皆さんどのように管理されているのでかなと思いました。 やっぱりicloudで容量追加するのが一番の様ですね。自宅のHDDに保存できるといいなと思いましたが・・・ 2024年1月5日 22:07、井上直也 <inoue405@gmail.com>からのメール： >HDDやPCに保存して見たい時に写真アプリを使ってみることはできますか？ 写真アプリに外部のリソースを参照する機能はないので、自宅のPC（HDD）をネット上に公開しても不可能じゃないですかね。 写真アプリを使いたいなら、一旦PC（HDD）に古い写真を退避して、共有アルバムに見たい写真だけアップすれば良いのでは？ 5000枚が上限ですが、iCloudの容量を圧迫しませんので。 iPhone、iPad、Mac の写真アプリで共有アルバムを使う方法 - Apple サポート (日本) 2024年1月5日(金) 22:02 井上直也 < inoue405@gmail.com >: 写真が３万枚を超えてきてiClouｄの９０パーセントになっています。icloudの量を節約するために写真データの一部をHDDやPCに保存して見たい時に写真アプリを使ってみることはできますか？ icloud写真を使う場合、オリジナルがicloudの容量を超える場合はお金を払って容量を増やすしかないのでしょうでしょうか？ 現在１００Gです。今以上に毎月の使用量を払いたくないのです。 よろしくお願いします。\n"
     ]
    }
   ],
   "source": [
    "print(retrieved_docs[3].page_content)"
   ]
  },
  {
   "cell_type": "code",
   "execution_count": 44,
   "metadata": {},
   "outputs": [
    {
     "name": "stderr",
     "output_type": "stream",
     "text": [
      "/home/ninoue/trial/venv/lib/python3.10/site-packages/langchain_core/_api/deprecation.py:189: LangChainDeprecationWarning: The class `ChatOpenAI` was deprecated in LangChain 0.1.0 and will be removed in 0.2.0. Use langchain_openai.ChatOpenAI instead.\n",
      "  warn_deprecated(\n",
      "/home/ninoue/trial/venv/lib/python3.10/site-packages/langchain_core/_api/beta_decorator.py:160: LangChainBetaWarning: The function `loads` is in beta. It is actively being worked on, so the API may change.\n",
      "  warn_beta(\n"
     ]
    },
    {
     "data": {
      "text/plain": [
       "{'context': [Document(page_content='Inoue < ninoue@galapagos-island.net >: Apple４K TVを、使うことが前提ですかね。 それならiCloud写真一択だと思うのですよ。 iPhoneやiPadでミラーリングさせれば良いので、想定している使い方は可能です。 AppleTV用にAmazonPhotosアプリがあれば、AppleTVで直接写真閲覧もできるはずですが、アプリがあるかは未確認です。 その他、FireTVを導入する手もありますね。 2024年1月5日 22:10、井上直也 < inoue405@gmail.com >からのメール： GoogleやOneDriveなどのApple以外のクラウドサービスを利用する手はありますが、量が多いと費用が発生します。 また、写真アプリではアクセスできず、ファイルアプリや専用アプリからのアクセスになります。 ちなみに、AmazonのPrime会員なら、無制限で写真を保存できます。 Amazon Photos 動画には上限ありますが、写真は無制限でフル解像度で保存できるので、古い写真を退避させるには良いかもです。 写真の管理や閲覧には専用アプリが必要です。 2024年1月5日(金) 22:08 Naoya Inoue < ninoue@galapagos-island.net >: なるほど、Icloudの仕組みがよくわからなくですみません。 Apple TVやPCにicloudの容量を超えるオリジナルを保存して使うことはできないんですね。 御指南いただいた方法でやってみます。 ありがとうございました。 Apple 4K TV使用前提ではありませんが、やりたいことは今まで貯めてきた写真を管理して、大きな画面でみんなで楽しみたいのです。', metadata={'row': 1, 'source': './emails.csv', 'start_index': 1188}),\n",
       "  Document(page_content='22:02 井上直也 < inoue405@gmail.com >: 写真が３万枚を超えてきてiClouｄの９０パーセントになっています。icloudの量を節約するために写真データの一部をHDDやPCに保存して見たい時に写真アプリを使ってみることはできますか？ icloud写真を使う場合、オリジナルがicloudの容量を超える場合はお金を払って容量を増やすしかないのでしょうでしょうか？ 現在１００Gです。今以上に毎月の使用量を払いたくないのです。 よろしくお願いします。', metadata={'row': 2, 'source': './emails.csv', 'start_index': 1541}),\n",
       "  Document(page_content='22:10、井上直也 < inoue405@gmail.com >からのメール： GoogleやOneDriveなどのApple以外のクラウドサービスを利用する手はありますが、量が多いと費用が発生します。 また、写真アプリではアクセスできず、ファイルアプリや専用アプリからのアクセスになります。 ちなみに、AmazonのPrime会員なら、無制限で写真を保存できます。 Amazon Photos 動画には上限ありますが、写真は無制限でフル解像度で保存できるので、古い写真を退避させるには良いかもです。 写真の管理や閲覧には専用アプリが必要です。 2024年1月5日(金) 22:08 Naoya Inoue < ninoue@galapagos-island.net >: なるほど、Icloudの仕組みがよくわからなくですみません。 Apple TVやPCにicloudの容量を超えるオリジナルを保存して使うことはできないんですね。 御指南いただいた方法でやってみます。 ありがとうございました。 Apple 4K TV使用前提ではありませんが、やりたいことは今まで貯めてきた写真を管理して、大きな画面でみんなで楽しみたいのです。 iphoneだけでは出来ない様なので安いミラーリングのコネクターを購入しましたがうまくいきませんでした。 iphoneユーザーで大量の写真を皆さんどのように管理されているのでかなと思いました。 やっぱりicloudで容量追加するのが一番の様ですね。自宅のHDDに保存できるといいなと思いましたが・・・ 2024年1月5日 22:07、井上直也 < inoue405@gmail.com >からのメール： >HDDやPCに保存して見たい時に写真アプリを使ってみることはできますか？', metadata={'row': 3, 'source': './emails.csv', 'start_index': 1036}),\n",
       "  Document(page_content='In-Reply-To: <CAE_FsLmB+4i6PVryHcEORiHnjkot0kGhzYEoZ7X138YLgTRbSQ@mail.gmail.com>\\nReferences: <CAE_FsLmB+4i6PVryHcEORiHnjkot0kGhzYEoZ7X138YLgTRbSQ@mail.gmail.com>\\nBody: 一度googleフォトに入れたことがあったのですが、仕組みがわかりませんがgoogleと同期すると、Appleフォトにも影響があり、オリジナルがGoogleに移ってしまい、容量がいっぱいになったら料金請求されたので、元に戻そうとしたら、データが元通りにAppleに戻らなくなってしまい、色々調べて苦労して元に戻した記憶があります。それ以来、他のクラウドには手を出さないようにしています。 やっぱり、大事なデータを保管するためにはそれなりの対価を支払う必要があるんですね。 今は、IOデータのHDDにバックアップしていますが、IOデータもアップルのバックアップアプリのサポートを辞めてしまったのでいつまで使えるかわかりません。 長くなりましたが、ありがとうございました。また色々教えてください。 2024年1月5日 22:02、井上直也 <inoue405@gmail.com>からのメール： 写真が３万枚を超えてきてiClouｄの９０パーセントになっています。icloudの量を節約するために写真データの一部をHDDやPCに保存して見たい時に写真アプリを使ってみることはできますか？ icloud写真を使う場合、オリジナルがicloudの容量を超える場合はお金を払って容量を増やすしかないのでしょうでしょうか？ 現在１００Gです。今以上に毎月の使用量を払いたくないのです。 よろしくお願いします。', metadata={'row': 4, 'source': './emails.csv', 'start_index': 204}),\n",
       "  Document(page_content='From: Naoya Inoue <ninoue@galapagos-island.net>\\nTo: 井上直也 <inoue405@gmail.com>\\nDate: Fri, 05 Jan 2024 13:04:25 +0000\\nSubject: Re: icloudの容量を節約したい。\\nMessage-Id: <0de6a730-8329-446c-9198-bc62e1e56be8@me.com>\\nIn-Reply-To: <CAE_FsLmB+4i6PVryHcEORiHnjkot0kGhzYEoZ7X138YLgTRbSQ@mail.gmail.com>\\nReferences: <CAE_FsLmB+4i6PVryHcEORiHnjkot0kGhzYEoZ7X138YLgTRbSQ@mail.gmail.com>\\nBody: 一度googleフォトに入れたことがあったのですが、仕組みがわかりませんがgoogleと同期すると、Appleフォトにも影響があり、オリジナルがGoogleに移ってしまい、容量がいっぱいになったら料金請求されたので、元に戻そうとしたら、データが元通りにAppleに戻らなくなってしまい、色々調べて苦労して元に戻した記憶があります。それ以来、他のクラウドには手を出さないようにしています。 やっぱり、大事なデータを保管するためにはそれなりの対価を支払う必要があるんですね。 今は、IOデータのHDDにバックアップしていますが、IOデータもアップルのバックアップアプリのサポートを辞めてしまったのでいつまで使えるかわかりません。 長くなりましたが、ありがとうございました。また色々教えてください。 2024年1月5日 22:02、井上直也 <inoue405@gmail.com>からのメール： 写真が３万枚を超えてきてiClouｄの９０パーセントになっています。icloudの量を節約するために写真データの一部をHDDやPCに保存して見たい時に写真アプリを使ってみることはできますか？ icloud写真を使う場合、オリジナルがicloudの容量を超える場合はお金を払って容量を増やすしかないのでしょうでしょうか？ 現在１００Gです。今以上に毎月の使用量を払いたくないのです。 よろしくお願いします。', metadata={'row': 4, 'source': './emails.csv', 'start_index': 0}),\n",
       "  Document(page_content='Body: Fire TVがあるんですね。 写真を大画面で見たいだけなら、Apple 4K TVはいらないんじゃないかな？ 2024年1月5日 22:11、井上直也 <inoue405@gmail.com>からのメール： Fire TVは、韓ドラ用で嫁さんが使っている様なので一度試してみます。 Apple TVもなんだか仕様や使い方がイマイチわかりませんが、購入して試してみることにします。 写真は、icloudの容量が超える様なら容量追加もしくは、HDDに一部退避を検討してみます。 ITに疎いじじーですが皆さんのおかげで、少し仕組みがわかった様な気がします。 ありがとうございました。 2024年1月5日(金) 22:11 Naoya Inoue < ninoue@galapagos-island.net >: Apple４K TVを、使うことが前提ですかね。 それならiCloud写真一択だと思うのですよ。 iPhoneやiPadでミラーリングさせれば良いので、想定している使い方は可能です。 AppleTV用にAmazonPhotosアプリがあれば、AppleTVで直接写真閲覧もできるはずですが、アプリがあるかは未確認です。 その他、FireTVを導入する手もありますね。 2024年1月5日 22:10、井上直也 < inoue405@gmail.com >からのメール： GoogleやOneDriveなどのApple以外のクラウドサービスを利用する手はありますが、量が多いと費用が発生します。 また、写真アプリではアクセスできず、ファイルアプリや専用アプリからのアクセスになります。 ちなみに、AmazonのPrime会員なら、無制限で写真を保存できます。 Amazon Photos 動画には上限ありますが、写真は無制限でフル解像度で保存できるので、古い写真を退避させるには良いかもです。 写真の管理や閲覧には専用アプリが必要です。 2024年1月5日(金) 22:08 Naoya Inoue < ninoue@galapagos-island.net >: なるほど、Icloudの仕組みがよくわからなくですみません。 Apple TVやPCにicloudの容量を超えるオリジナルを保存して使うことはできないんですね。 御指南いただいた方法でやってみます。', metadata={'row': 3, 'source': './emails.csv', 'start_index': 482})],\n",
       " 'question': 'やりたいことは、何ですか？',\n",
       " 'answer': '写真を大画面で見たい場合、Apple 4K TVは必要ありません。Fire TVやApple TVを試してみることをおすすめします。また、AmazonのPrime会員なら無制限で写真を保存できるので、Amazon Photosを利用することも考えてみてください。'}"
      ]
     },
     "execution_count": 44,
     "metadata": {},
     "output_type": "execute_result"
    }
   ],
   "source": [
    "llm = ChatOpenAI(model_name=\"gpt-3.5-turbo\", temperature=0)\n",
    "prompt = hub.pull(\"rlm/rag-prompt\")\n",
    "\n",
    "def format_docs(docs):\n",
    "    return \"\\n\\n\".join(doc.page_content for doc in docs)\n",
    "\n",
    "from langchain_core.runnables import RunnableParallel\n",
    "rag_chain_from_docs = (\n",
    "    RunnablePassthrough.assign(context=(lambda x: format_docs(x[\"context\"])))\n",
    "    | prompt\n",
    "    | llm\n",
    "    | StrOutputParser()\n",
    ")\n",
    "\n",
    "rag_chain_with_source = RunnableParallel(\n",
    "    {\"context\": retriever, \"question\": RunnablePassthrough()}\n",
    ").assign(answer=rag_chain_from_docs)\n",
    "\n",
    "rag_chain_with_source.invoke(\"やりたいことは、何ですか？\")\n",
    "\n"
   ]
  }
 ],
 "metadata": {
  "kernelspec": {
   "display_name": "venv",
   "language": "python",
   "name": "python3"
  },
  "language_info": {
   "codemirror_mode": {
    "name": "ipython",
    "version": 3
   },
   "file_extension": ".py",
   "mimetype": "text/x-python",
   "name": "python",
   "nbconvert_exporter": "python",
   "pygments_lexer": "ipython3",
   "version": "3.10.12"
  }
 },
 "nbformat": 4,
 "nbformat_minor": 2
}
